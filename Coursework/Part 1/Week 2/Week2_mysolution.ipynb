{
 "cells": [
  {
   "cell_type": "markdown",
   "metadata": {},
   "source": [
    "# Week 2 Task 2"
   ]
  },
  {
   "cell_type": "code",
   "execution_count": 1,
   "metadata": {},
   "outputs": [],
   "source": [
    "import pandas as pd"
   ]
  },
  {
   "cell_type": "code",
   "execution_count": 2,
   "metadata": {},
   "outputs": [
    {
     "name": "stdout",
     "output_type": "stream",
     "text": [
      "Tuesday data shape:  (9721, 12)\n"
     ]
    }
   ],
   "source": [
    "data = pd.read_csv(\"rawpvr_2018-02-01_28d_1083 TueFri.csv\")\n",
    "data[\"Date\"] = pd.to_datetime(data[\"Date\"], format=\"%Y-%m-%d %H:%M:%S.%f\")\n",
    "\n",
    "data[\"Day_Number\"] = data[\"Date\"].dt.day\n",
    "data[\"Hour\"] = data[\"Date\"].dt.hour\n",
    "\n",
    "tue_data = data[(data[\"Hour\"]==9) & (data[\"Direction Name\"]==\"North\") & (data[\"Flags\"]==2)]\n",
    "print(\"Tuesday data shape: \", tue_data.shape)"
   ]
  },
  {
   "cell_type": "code",
   "execution_count": 3,
   "metadata": {},
   "outputs": [
    {
     "name": "stdout",
     "output_type": "stream",
     "text": [
      "                         Date  Lane Lane Name  Direction Direction Name  \\\n",
      "78847 2018-02-06 09:00:01.030     2    NB_MID          1          North   \n",
      "78848 2018-02-06 09:00:01.030     3     NB_OS          1          North   \n",
      "78849 2018-02-06 09:00:01.170     1     NB_NS          1          North   \n",
      "\n",
      "       Speed (mph)  Headway (s)  Gap (s)  Flags Flag Text  Day_Number  Hour  \n",
      "78847       32.932        5.026      NaN      2   Tuesday           6     9  \n",
      "78848       32.310        3.946      NaN      2   Tuesday           6     9  \n",
      "78849       31.691        3.035      NaN      2   Tuesday           6     9  \n"
     ]
    }
   ],
   "source": [
    "print(tue_data.head(3))"
   ]
  },
  {
   "cell_type": "markdown",
   "metadata": {},
   "source": [
    "## 4 groups"
   ]
  },
  {
   "cell_type": "code",
   "execution_count": 19,
   "metadata": {},
   "outputs": [
    {
     "name": "stdout",
     "output_type": "stream",
     "text": [
      "Day_Number\n",
      "6     2537\n",
      "13    2447\n",
      "20    2311\n",
      "27    2426\n",
      "dtype: int64\n"
     ]
    }
   ],
   "source": [
    "tue_traffic_volume = tue_data.groupby(\"Day_Number\").size()\n",
    "print(tue_traffic_volume)"
   ]
  },
  {
   "cell_type": "code",
   "execution_count": 21,
   "metadata": {},
   "outputs": [
    {
     "name": "stdout",
     "output_type": "stream",
     "text": [
      "226\n",
      "2397.25\n",
      "2436.5\n",
      "2469.5\n",
      "72.25\n"
     ]
    },
    {
     "data": {
      "text/plain": [
       "2397.25"
      ]
     },
     "execution_count": 21,
     "metadata": {},
     "output_type": "execute_result"
    }
   ],
   "source": [
    "tue_traffic_volume_range = tue_traffic_volume.max() - tue_traffic_volume.min()\n",
    "tue_traffic_volume_fir_quar = tue_traffic_volume.quantile(0.25)\n",
    "tue_traffic_volume_sec_quar = tue_traffic_volume.quantile(0.5)\n",
    "tue_traffic_volume_thir_quar = tue_traffic_volume.quantile(0.75)\n",
    "tue_traffic_volume_inter_range = tue_traffic_volume_thir_quar - tue_traffic_volume_fir_quar\n",
    "\n",
    "print(tue_traffic_volume_range)\n",
    "print(tue_traffic_volume_fir_quar)\n",
    "print(tue_traffic_volume_sec_quar)\n",
    "print(tue_traffic_volume_thir_quar)\n",
    "print(tue_traffic_volume_inter_range)"
   ]
  },
  {
   "cell_type": "markdown",
   "metadata": {},
   "source": [
    "## 12 groups"
   ]
  },
  {
   "cell_type": "code",
   "execution_count": 14,
   "metadata": {},
   "outputs": [
    {
     "name": "stdout",
     "output_type": "stream",
     "text": [
      "Day_Number  Lane Name\n",
      "6           NB_MID       879\n",
      "            NB_NS        743\n",
      "            NB_OS        915\n",
      "13          NB_MID       856\n",
      "            NB_NS        710\n",
      "            NB_OS        881\n",
      "20          NB_MID       823\n",
      "            NB_NS        682\n",
      "            NB_OS        806\n",
      "27          NB_MID       831\n",
      "            NB_NS        780\n",
      "            NB_OS        815\n",
      "dtype: int64\n"
     ]
    }
   ],
   "source": [
    "tue_traffic_volume2 = tue_data.groupby([\"Day_Number\", \"Lane Name\"]).size()\n",
    "print(tue_traffic_volume2)"
   ]
  },
  {
   "cell_type": "code",
   "execution_count": 18,
   "metadata": {},
   "outputs": [
    {
     "name": "stdout",
     "output_type": "stream",
     "text": [
      "233\n",
      "770.75\n",
      "819.0\n",
      "861.75\n",
      "91.0\n",
      "[682, 710, 743, 780, 806, 815, 823, 831, 856, 879, 881, 915]\n"
     ]
    },
    {
     "data": {
      "text/plain": [
       "713.3"
      ]
     },
     "execution_count": 18,
     "metadata": {},
     "output_type": "execute_result"
    }
   ],
   "source": [
    "tue_traffic_volume2_range = tue_traffic_volume2.max()-tue_traffic_volume2.min()\n",
    "tue_traffic_volume2_fir_quar = tue_traffic_volume2.quantile(0.25)\n",
    "tue_traffic_volume2_sec_quar = tue_traffic_volume2.quantile(0.5)\n",
    "tue_traffic_volume2_thir_quar = tue_traffic_volume2.quantile(0.75)\n",
    "tue_traffic_volume2_inter_range = tue_traffic_volume2_thir_quar - tue_traffic_volume2_fir_quar\n",
    "\n",
    "print(tue_traffic_volume2_range)\n",
    "print(tue_traffic_volume2_fir_quar)\n",
    "print(tue_traffic_volume2_sec_quar)\n",
    "print(tue_traffic_volume2_thir_quar)\n",
    "print(tue_traffic_volume2_inter_range)\n",
    "print(sorted(tue_traffic_volume2))\n",
    "tue_traffic_volume2.quantile(0.1)"
   ]
  },
  {
   "cell_type": "markdown",
   "metadata": {},
   "source": [
    "# Week 2 Task 3"
   ]
  },
  {
   "cell_type": "code",
   "execution_count": 9,
   "metadata": {},
   "outputs": [],
   "source": [
    "import pandas as pd\n",
    "import matplotlib.pyplot as plt"
   ]
  },
  {
   "cell_type": "code",
   "execution_count": 10,
   "metadata": {},
   "outputs": [],
   "source": [
    "data = pd.read_csv(\"rawpvr_2018-02-01_28d_1083 TueFri.csv\")\n",
    "data[\"Date\"] = pd.to_datetime(data[\"Date\"], format=\"%Y-%m-%d %H:%M:%S.%f\")\n",
    "data[\"Day_Number\"] = data[\"Date\"].dt.day\n",
    "data[\"Hour\"] = data[\"Date\"].dt.hour"
   ]
  },
  {
   "cell_type": "markdown",
   "metadata": {},
   "source": [
    "## North"
   ]
  },
  {
   "cell_type": "code",
   "execution_count": 12,
   "metadata": {},
   "outputs": [
    {
     "name": "stdout",
     "output_type": "stream",
     "text": [
      "Tuesday data north lane shape:  (124578, 12)\n"
     ]
    }
   ],
   "source": [
    "tue_data_north = data[(data[\"Direction Name\"]==\"North\") & (data[\"Flags\"]==2)]\n",
    "print(\"Tuesday data north lane shape: \", tue_data_north.shape)"
   ]
  },
  {
   "cell_type": "code",
   "execution_count": 4,
   "metadata": {},
   "outputs": [
    {
     "name": "stdout",
     "output_type": "stream",
     "text": [
      "                         Date  Lane Lane Name  Direction Direction Name  \\\n",
      "64601 2018-02-06 00:00:07.010     3     NB_OS          1          North   \n",
      "64603 2018-02-06 00:00:14.020     2    NB_MID          1          North   \n",
      "64604 2018-02-06 00:00:41.060     2    NB_MID          1          North   \n",
      "\n",
      "       Speed (mph)  Headway (s)  Gap (s)  Flags Flag Text  Day_Number  Hour  \n",
      "64601       45.361          NaN      NaN      2   Tuesday           6     0  \n",
      "64603       33.554          NaN      NaN      2   Tuesday           6     0  \n",
      "64604       44.739          NaN      NaN      2   Tuesday           6     0  \n"
     ]
    }
   ],
   "source": [
    "print(tue_data_north.head(3))"
   ]
  },
  {
   "cell_type": "code",
   "execution_count": 5,
   "metadata": {},
   "outputs": [
    {
     "name": "stdout",
     "output_type": "stream",
     "text": [
      "Average traffic volume of each hour Hour\n",
      "0      126.50\n",
      "1       63.00\n",
      "2       42.50\n",
      "3       53.00\n",
      "4      108.25\n",
      "5      361.50\n",
      "6     1260.00\n",
      "7     2951.50\n",
      "8     2727.00\n",
      "9     2430.25\n",
      "10    1776.75\n",
      "11    1634.25\n",
      "12    1698.75\n",
      "13    1707.50\n",
      "14    1642.00\n",
      "15    1805.25\n",
      "16    2429.00\n",
      "17    2655.75\n",
      "18    2121.50\n",
      "19    1308.25\n",
      "20     882.75\n",
      "21     648.75\n",
      "22     453.75\n",
      "23     256.75\n",
      "dtype: float64\n"
     ]
    }
   ],
   "source": [
    "tue_data_north_total = tue_data_north.groupby([\"Hour\"]).size()\n",
    "\n",
    "\n",
    "\n",
    "tue_data_north_average = tue_data_north_total/4\n",
    "print(\"Average traffic volume of each hour\", tue_data_north_average)"
   ]
  },
  {
   "cell_type": "code",
   "execution_count": 6,
   "metadata": {},
   "outputs": [
    {
     "data": {
      "image/png": "[encoded data removed]",
      "text/plain": [
       "<Figure size 432x288 with 1 Axes>"
      ]
     },
     "metadata": {
      "needs_background": "light"
     },
     "output_type": "display_data"
    }
   ],
   "source": [
    "plt.bar(list(range(0,24)), tue_data_north_average)\n",
    "plt.xlabel(\"Hours of a day\")\n",
    "plt.ylabel(\"Average traffic volume\")\n",
    "plt.show()"
   ]
  },
  {
   "cell_type": "markdown",
   "metadata": {},
   "source": [
    "## South"
   ]
  },
  {
   "cell_type": "code",
   "execution_count": 15,
   "metadata": {},
   "outputs": [
    {
     "name": "stdout",
     "output_type": "stream",
     "text": [
      "Tuesday data south lane shape:  (123439, 12)\n"
     ]
    }
   ],
   "source": [
    "tue_data_south = data[(data[\"Direction Name\"]==\"South\") & (data[\"Flags\"]==2)]\n",
    "print(\"Tuesday data south lane shape: \", tue_data_south.shape)"
   ]
  },
  {
   "cell_type": "code",
   "execution_count": 16,
   "metadata": {},
   "outputs": [
    {
     "name": "stdout",
     "output_type": "stream",
     "text": [
      "Hour\n",
      "0      162.75\n",
      "1       92.75\n",
      "2       77.50\n",
      "3       79.75\n",
      "4      120.50\n",
      "5      289.75\n",
      "6      862.25\n",
      "7     2015.00\n",
      "8     2135.00\n",
      "9     1548.25\n",
      "10    1402.00\n",
      "11    1543.50\n",
      "12    1709.25\n",
      "13    1749.50\n",
      "14    1992.00\n",
      "15    2481.50\n",
      "16    3001.25\n",
      "17    2794.00\n",
      "18    2330.50\n",
      "19    1601.75\n",
      "20    1080.25\n",
      "21     847.00\n",
      "22     612.75\n",
      "23     331.00\n",
      "dtype: float64\n"
     ]
    }
   ],
   "source": [
    "tue_data_south_total = tue_data_south.groupby(\"Hour\").size()\n",
    "\n",
    "\n",
    "\n",
    "tue_data_south_average = tue_data_south_total/4\n",
    "print(tue_data_south_average)"
   ]
  },
  {
   "cell_type": "code",
   "execution_count": 17,
   "metadata": {},
   "outputs": [
    {
     "data": {
      "image/png": "[encoded data removed]",
      "text/plain": [
       "<Figure size 432x288 with 1 Axes>"
      ]
     },
     "metadata": {
      "needs_background": "light"
     },
     "output_type": "display_data"
    }
   ],
   "source": [
    "plt.bar(list(range(0,24)), tue_data_south_average)\n",
    "plt.xlabel(\"Hours of a day\")\n",
    "plt.ylabel(\"Average traffic volume\")\n",
    "plt.show()"
   ]
  },
  {
   "cell_type": "code",
   "execution_count": null,
   "metadata": {},
   "outputs": [],
   "source": []
  }
 ],
 "metadata": {
  "interpreter": {
   "hash": "c61fd2774bb0a72f20c2dc837a855e10c88d9a34d126983825eaea1a86324862"
  },
  "kernelspec": {
   "display_name": "Python 3.6.12 64-bit ('60711': conda)",
   "name": "python3"
  },
  "language_info": {
   "codemirror_mode": {
    "name": "ipython",
    "version": 3
   },
   "file_extension": ".py",
   "mimetype": "text/x-python",
   "name": "python",
   "nbconvert_exporter": "python",
   "pygments_lexer": "ipython3",
   "version": "3.6.12"
  },
  "orig_nbformat": 4
 },
 "nbformat": 4,
 "nbformat_minor": 2
}
