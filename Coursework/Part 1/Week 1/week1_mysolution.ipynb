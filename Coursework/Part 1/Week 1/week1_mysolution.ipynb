{
 "cells": [
  {
   "cell_type": "markdown",
   "metadata": {},
   "source": [
    "# Week 1 Task 1"
   ]
  },
  {
   "cell_type": "code",
   "execution_count": 1,
   "metadata": {},
   "outputs": [],
   "source": [
    "import csv\n",
    "import datetime"
   ]
  },
  {
   "cell_type": "markdown",
   "metadata": {},
   "source": [
    "## A. Update the 'Flag' and 'Flag Text' columns"
   ]
  },
  {
   "cell_type": "code",
   "execution_count": 2,
   "metadata": {},
   "outputs": [],
   "source": [
    "def get_weekday_string(index):\n",
    "    week_day = {\n",
    "        2: \"Tuesday\",\n",
    "        5: \"Friday\"\n",
    "    }\n",
    "    return week_day[index]"
   ]
  },
  {
   "cell_type": "code",
   "execution_count": 3,
   "metadata": {},
   "outputs": [],
   "source": [
    "def update_flag(read_file_path, write_file_path):\n",
    "    csv_file = open(file=read_file_path, mode=\"r\")\n",
    "    with open(file=write_file_path, mode=\"w\", newline='', encoding='utf-8') as csv_write_file:\n",
    "        reader = csv.reader(csv_file)\n",
    "        writer = csv.writer(csv_write_file)\n",
    "        i = 0\n",
    "\n",
    "        for row in reader:\n",
    "            if i==0:\n",
    "                writer.writerow(row)\n",
    "        \n",
    "            if i!= 0:\n",
    "                str2date = datetime.datetime.strptime(row[0].split(\".\")[0], \"%Y-%m-%d %H:%M:%S\")\n",
    "                weekday_index = str2date.weekday() + 1\n",
    "                weekday_string = get_weekday_string(weekday_index)\n",
    "\n",
    "                row[8] = weekday_index\n",
    "                row[9] = weekday_string\n",
    "                writer.writerow(row)\n",
    "            i=i+1\n",
    "        "
   ]
  },
  {
   "cell_type": "code",
   "execution_count": 4,
   "metadata": {},
   "outputs": [],
   "source": [
    "read_file_path1 = \"../Datasets/rawpvr_2018-02-01_28d_1083 TueFri.csv\"\n",
    "write_file_path1 = \"../Week 3/rawpvr_2018-02-01_28d_1083 TueFri.csv\"\n",
    "update_flag(read_file_path1, write_file_path1)\n",
    "\n",
    "read_file_path2 = \"../Datasets/rawpvr_2018-02-01_28d_1415 TueFri.csv\"\n",
    "write_file_path2 = \"../Week 3/rawpvr_2018-02-01_28d_1415 TueFri.csv\"\n",
    "update_flag(read_file_path2, write_file_path2)"
   ]
  },
  {
   "cell_type": "markdown",
   "metadata": {},
   "source": [
    "## B. Calculate the total traffic volume for each day of the week"
   ]
  },
  {
   "cell_type": "code",
   "execution_count": 2,
   "metadata": {},
   "outputs": [],
   "source": [
    "def calculate_volume(read_file_path):\n",
    "    csv_file = open(read_file_path, mode=\"r\")\n",
    "    reader = csv.reader(csv_file)\n",
    "    Tue_volume = 0\n",
    "    Fri_volume = 0\n",
    "    i = 0\n",
    "\n",
    "    for row in reader:\n",
    "        if i != 0:\n",
    "            if int(row[8])==2:\n",
    "                Tue_volume = Tue_volume + 1\n",
    "            if int(row[8])==5:\n",
    "                Fri_volume = Fri_volume + 1\n",
    "        i=i+1\n",
    "\n",
    "    return Tue_volume, Fri_volume"
   ]
  },
  {
   "cell_type": "code",
   "execution_count": 3,
   "metadata": {},
   "outputs": [
    {
     "name": "stdout",
     "output_type": "stream",
     "text": [
      "1083 Tuesday volume:  248017  Friday volume:  255751\n",
      "1415 Tuesday volume:  138891  Friday volume:  150187\n"
     ]
    }
   ],
   "source": [
    "Tue_volume1, Fri_volume1 = calculate_volume(\"output_rawpvr_2018-02-01_28d_1083 TueFri.csv\")\n",
    "print(\"1083 Tuesday volume: \", Tue_volume1, \" Friday volume: \", Fri_volume1)\n",
    "\n",
    "Tue_volume2, Fri_volume2 = calculate_volume(\"output_rawpvr_2018-02-01_28d_1415 TueFri.csv\")\n",
    "print(\"1415 Tuesday volume: \", Tue_volume2, \" Friday volume: \", Fri_volume2)"
   ]
  }
 ],
 "metadata": {
  "interpreter": {
   "hash": "c61fd2774bb0a72f20c2dc837a855e10c88d9a34d126983825eaea1a86324862"
  },
  "kernelspec": {
   "display_name": "Python 3.6.12 64-bit ('60711': conda)",
   "name": "python3"
  },
  "language_info": {
   "codemirror_mode": {
    "name": "ipython",
    "version": 3
   },
   "file_extension": ".py",
   "mimetype": "text/x-python",
   "name": "python",
   "nbconvert_exporter": "python",
   "pygments_lexer": "ipython3",
   "version": "3.6.12"
  },
  "orig_nbformat": 4
 },
 "nbformat": 4,
 "nbformat_minor": 2
}
